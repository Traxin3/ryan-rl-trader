{
 "cells": [
  {
   "cell_type": "markdown",
   "id": "cad1796d",
   "metadata": {},
   "source": [
    "# Project Ryan: RL Trading Environment (Colab Starter)\n",
    "\n",
    "Welcome to the Colab notebook for Project Ryan! This notebook will guide you through setting up, training, and evaluating the RL trading agent using the custom gym-mtsim-inspired environment."
   ]
  },
  {
   "cell_type": "code",
   "execution_count": null,
   "id": "4e40a6c2",
   "metadata": {},
   "outputs": [],
   "source": [
    "# SECTION 1: Install Required Packages\n",
    "!pip install gymnasium stable-baselines3[extra] MetaTrader5 tqdm pandas numpy matplotlib plotly pathos scikit-learn"
   ]
  },
  {
   "cell_type": "markdown",
   "id": "da3d334d",
   "metadata": {},
   "source": [
    "## Section 2: Clone the Project Repository\n",
    "\n",
    "Clone the Project Ryan codebase from GitHub. If you have your own fork, update the URL below."
   ]
  },
  {
   "cell_type": "code",
   "execution_count": null,
   "id": "f2c3ef6d",
   "metadata": {},
   "outputs": [],
   "source": [
    "# Clone the Project Ryan repo (replace with your fork if needed)\n",
    "!git clone https://github.com/Traxin3/ryan-rl-trader.git\n",
    "%cd ryan-rl-trader"
   ]
  },
  {
   "cell_type": "code",
   "execution_count": null,
   "id": "c5513ab9",
   "metadata": {},
   "outputs": [],
   "source": [
    "# Detect if MetaTrader5 is available (for Colab/cloud compatibility)\n",
    "import platform\n",
    "MT5_AVAILABLE = False\n",
    "if platform.system() == \"Windows\":\n",
    "    try:\n",
    "        import MetaTrader5 as mt5\n",
    "        MT5_AVAILABLE = True\n",
    "    except ImportError:\n",
    "        print(\"MetaTrader5 not installed. Will use local cache or skip MT5 features.\")\n",
    "else:\n",
    "    print(\"MetaTrader5 is only available on Windows. Running in cloud/offline mode.\")"
   ]
  },
  {
   "cell_type": "code",
   "execution_count": null,
   "id": "2ef1275e",
   "metadata": {},
   "outputs": [],
   "source": [
    "!python main.py"
   ]
  }
 ],
 "metadata": {
  "language_info": {
   "name": "python"
  }
 },
 "nbformat": 4,
 "nbformat_minor": 5
}
